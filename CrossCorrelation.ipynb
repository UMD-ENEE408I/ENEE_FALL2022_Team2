{
 "cells": [
  {
   "cell_type": "code",
   "execution_count": 21,
   "metadata": {},
   "outputs": [
    {
     "name": "stdout",
     "output_type": "stream",
     "text": [
      "Offset: 223.13s\n"
     ]
    },
    {
     "data": {
      "image/png": "[encoded data removed]",
      "text/plain": [
       "<Figure size 432x288 with 1 Axes>"
      ]
     },
     "metadata": {
      "needs_background": "light"
     },
     "output_type": "display_data"
    }
   ],
   "source": [
    "import argparse\n",
    "\n",
    "import librosa\n",
    "import numpy as np\n",
    "from scipy import signal\n",
    "import matplotlib.pyplot as plt\n",
    "import pyaudio\n",
    "import pylab\n",
    "import time\n",
    "import sys\n",
    "import wave\n",
    "\n",
    "RATE = 44100\n",
    "CHUNK = int(RATE/20) # RATE / number of updates per second\n",
    "frames = []\n",
    "def soundplot(stream):\n",
    "\n",
    "    t1=time.time()\n",
    "    #use np.frombuffer if you face error at this line\n",
    "    #data = np.fromstring(stream.read(CHUNK),dtype=np.int16)\n",
    "    data = stream.read(CHUNK)\n",
    "    frames.append(data) \n",
    "\n",
    "def find_offset(within_file, find_file, window):\n",
    "    y_within, sr_within = librosa.load(within_file, sr=None)\n",
    "    y_find, _ = librosa.load(find_file, sr=sr_within)\n",
    "\n",
    "    c = signal.correlate(y_within, y_find[:sr_within*window], mode='valid', method='fft')\n",
    "    peak = np.argmax(c)\n",
    "    offset = round(peak / sr_within, 2)\n",
    "\n",
    "    fig, ax = plt.subplots()\n",
    "    ax.plot(c)\n",
    "    fig.savefig(\"cross-correlation.png\")\n",
    "\n",
    "    return offset\n",
    "\n",
    "\n",
    "def main():\n",
    "    \n",
    "    p=pyaudio.PyAudio()\n",
    "    stream=p.open(format=pyaudio.paInt16,channels=1,rate=RATE,input=True,\n",
    "                  frames_per_buffer=CHUNK)\n",
    "    #for i in range(sys.maxsize**10):\n",
    "    for i in range(100):    #100 = 5 seconds\n",
    "        soundplot(stream)\n",
    "    stream.stop_stream()\n",
    "    stream.close()\n",
    "    p.terminate()\n",
    "    \n",
    "    wf = wave.open(\"output.wav\",'wb')\n",
    "    wf.setnchannels(1)\n",
    "    #wf.setsampwidth(p.get_sample_size(pyaudio.paInt16))\n",
    "    wf.setsampwidth(2)\n",
    "    wf.setframerate(RATE)\n",
    "    wf.writeframes(b''.join(frames))\n",
    "    wf.close()\n",
    "    \n",
    "    offset = find_offset('audio/africa-toto.wav', 'output.wav', 10)\n",
    "    print(f\"Offset: {offset}s\" )\n",
    "\n",
    "\n",
    "if __name__ == '__main__':\n",
    "    main()"
   ]
  },
  {
   "cell_type": "code",
   "execution_count": null,
   "metadata": {},
   "outputs": [],
   "source": []
  },
  {
   "cell_type": "code",
   "execution_count": null,
   "metadata": {},
   "outputs": [],
   "source": []
  }
 ],
 "metadata": {
  "kernelspec": {
   "display_name": "Python 3",
   "language": "python",
   "name": "python3"
  },
  "language_info": {
   "codemirror_mode": {
    "name": "ipython",
    "version": 3
   },
   "file_extension": ".py",
   "mimetype": "text/x-python",
   "name": "python",
   "nbconvert_exporter": "python",
   "pygments_lexer": "ipython3",
   "version": "3.7.4"
  }
 },
 "nbformat": 4,
 "nbformat_minor": 2
}
